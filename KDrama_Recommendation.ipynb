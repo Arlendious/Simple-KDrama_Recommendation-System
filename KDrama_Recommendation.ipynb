{
  "nbformat": 4,
  "nbformat_minor": 0,
  "metadata": {
    "colab": {
      "provenance": []
    },
    "kernelspec": {
      "name": "python3",
      "display_name": "Python 3"
    },
    "language_info": {
      "name": "python"
    }
  },
  "cells": [
    {
      "cell_type": "code",
      "execution_count": null,
      "metadata": {
        "colab": {
          "base_uri": "https://localhost:8080/"
        },
        "id": "xKs_KLQaJYTu",
        "outputId": "a5199d36-d257-4a32-fcd0-9e2dacda5605"
      },
      "outputs": [
        {
          "output_type": "stream",
          "name": "stdout",
          "text": [
            "<class 'pandas.core.frame.DataFrame'>\n",
            "RangeIndex: 250 entries, 0 to 249\n",
            "Data columns (total 17 columns):\n",
            " #   Column                Non-Null Count  Dtype  \n",
            "---  ------                --------------  -----  \n",
            " 0   Name                  250 non-null    object \n",
            " 1   Aired Date            250 non-null    object \n",
            " 2   Year of release       250 non-null    int64  \n",
            " 3   Original Network      250 non-null    object \n",
            " 4   Aired On              250 non-null    object \n",
            " 5   Number of Episodes    250 non-null    int64  \n",
            " 6   Duration              250 non-null    object \n",
            " 7   Content Rating        245 non-null    object \n",
            " 8   Rating                250 non-null    float64\n",
            " 9   Synopsis              250 non-null    object \n",
            " 10  Genre                 250 non-null    object \n",
            " 11  Tags                  250 non-null    object \n",
            " 12  Director              249 non-null    object \n",
            " 13  Screenwriter          249 non-null    object \n",
            " 14  Cast                  250 non-null    object \n",
            " 15  Production companies  248 non-null    object \n",
            " 16  Rank                  250 non-null    object \n",
            "dtypes: float64(1), int64(2), object(14)\n",
            "memory usage: 33.3+ KB\n"
          ]
        }
      ],
      "source": [
        "import pandas as pd\n",
        "df=pd.read_csv(\"kdrama.csv\")\n",
        "df.info()"
      ]
    },
    {
      "cell_type": "code",
      "source": [
        "import pandas as pd\n",
        "from sklearn.feature_extraction.text import TfidfVectorizer\n",
        "from sklearn.metrics.pairwise import linear_kernel\n",
        "data = pd.read_csv('kdrama.csv')\n",
        "data = data.drop(['Name', 'Aired On', 'Aired Date', 'Content Rating', 'Synopsis', 'Tags', 'Director', 'Screenwriter', 'Cast', 'Production companies', 'Rank'], axis=1)\n",
        "\n",
        "# Cleaning the data\n",
        "data['Year of release'] = data['Year of release'].astype(str)\n",
        "data['Original Network'] = data['Original Network'].apply(lambda x: x.strip())\n",
        "\n",
        "# Extraction of features\n",
        "tfidf = TfidfVectorizer(stop_words='english')\n",
        "data['Genre'] = data['Genre'].fillna('')\n",
        "tfidf_matrix = tfidf.fit_transform(data['Genre'])\n",
        "\n",
        "# Computing cosine similarity\n",
        "cosine_similarities = linear_kernel(tfidf_matrix, tfidf_matrix)\n",
        "indices = pd.Series(data.index, index=data['Original Network']).drop_duplicates()"
      ],
      "metadata": {
        "id": "3Z7QeSg8K_Bw"
      },
      "execution_count": null,
      "outputs": []
    },
    {
      "cell_type": "code",
      "source": [
        "# import pandas as pd\n",
        "# import numpy as np\n",
        "# from sklearn.feature_extraction.text import TfidfVectorizer\n",
        "# from sklearn.metrics.pairwise import cosine_similarity\n",
        "\n",
        "# # Load the data\n",
        "# df = pd.read_csv(\"kdrama.csv\")\n",
        "\n",
        "# # Select features for content-based filtering\n",
        "# features = [\"Name\", \"Synopsis\", \"Genre\", \"Tags\", \"Director\", \"Cast\", \"Production companies\"]\n",
        "\n",
        "# # Remove missing values\n",
        "# df = df.dropna(subset=features)\n",
        "\n",
        "# # Combine the features into a single string\n",
        "# df[\"content\"] = df[features].apply(lambda x: \" \".join(x.astype(str)), axis=1)\n",
        "\n",
        "# # Vectorize the content using TF-IDF\n",
        "# tfidf = TfidfVectorizer(stop_words=\"english\")\n",
        "# tfidf_matrix = tfidf.fit_transform(df[\"content\"])\n",
        "\n",
        "# # Calculate the cosine similarity matrix\n",
        "# cosine_sim = cosine_similarity(tfidf_matrix, tfidf_matrix)\n",
        "\n"
      ],
      "metadata": {
        "id": "QJQL8rgWMv4z"
      },
      "execution_count": null,
      "outputs": []
    },
    {
      "cell_type": "code",
      "source": [
        "from sklearn.feature_extraction.text import TfidfVectorizer\n",
        "from sklearn.metrics.pairwise import cosine_similarity\n",
        "\n",
        "# Preprocessing text\n",
        "def preprocess_text(text):\n",
        "    # Converting to lowercase\n",
        "    text = text.lower()\n",
        "    \n",
        "    # Removing punctuation\n",
        "    text = ''.join(c for c in text if c not in '.,?!-()[]{};:\\'\\\"')\n",
        "    \n",
        "    return text\n",
        "\n",
        "# Creating a TF-IDF matrix\n",
        "tfidf_vectorizer = TfidfVectorizer(preprocessor=preprocess_text)\n",
        "tfidf_matrix = tfidf_vectorizer.fit_transform(df['Synopsis'])\n",
        "\n",
        "# Extraction of features from text\n",
        "def extract_features(text, tfidf_matrix):\n",
        "    # Preprocess text\n",
        "    text = preprocess_text(text)\n",
        "    \n",
        "    # Transform text using TF-IDF vectorizer\n",
        "    text_vector = tfidf_vectorizer.transform([text])\n",
        "    \n",
        "    return text_vector\n",
        "\n",
        "# Recommend similar dramas\n",
        "def recommend_similar_dramas(drama_name, dramas, tfidf_matrix):\n",
        "    # Preprocessing input drama name\n",
        "    drama_name = preprocess_text(drama_name)\n",
        "    \n",
        "    # Extraction of features for input drama name\n",
        "    drama_features = extract_features(drama_name, tfidf_matrix)\n",
        "    \n",
        "    # Calculating similarity between input drama and all other dramas\n",
        "    similarities = cosine_similarity(drama_features, tfidf_matrix)\n",
        "    \n",
        "    # Finds indices of top 5 similar dramas\n",
        "    similar_dramas_indices = similarities.argsort()[0][-6:-1]\n",
        "    \n",
        "    # Returns names of top 5 similar dramas\n",
        "    similar_dramas = list(dramas['Name'].iloc[similar_dramas_indices])\n",
        "    \n",
        "    return similar_dramas\n"
      ],
      "metadata": {
        "id": "8IFLghUJM28G"
      },
      "execution_count": null,
      "outputs": []
    },
    {
      "cell_type": "code",
      "source": [
        "input_drama = 'Crash Landing on You'\n",
        "similar_dramas = recommend_similar_dramas(input_drama, df, tfidf_matrix)\n",
        "print(similar_dramas)\n"
      ],
      "metadata": {
        "colab": {
          "base_uri": "https://localhost:8080/"
        },
        "id": "gDEI13yZNRPB",
        "outputId": "8b3e306d-952c-4904-dee9-8ce08fe645b7"
      },
      "execution_count": null,
      "outputs": [
        {
          "output_type": "stream",
          "name": "stdout",
          "text": [
            "['The Mysterious Class', 'Crash Landing on You', 'Vagabond', 'Mad Dog', 'Extraordinary You']\n"
          ]
        }
      ]
    },
    {
      "cell_type": "code",
      "source": [
        "!pip install streamlit "
      ],
      "metadata": {
        "colab": {
          "base_uri": "https://localhost:8080/"
        },
        "id": "KvkzdkgfNZsY",
        "outputId": "fdef68a2-d9a3-4ffb-a84c-00fcbd0bad74"
      },
      "execution_count": null,
      "outputs": [
        {
          "output_type": "stream",
          "name": "stdout",
          "text": [
            "Looking in indexes: https://pypi.org/simple, https://us-python.pkg.dev/colab-wheels/public/simple/\n",
            "Requirement already satisfied: streamlit in /usr/local/lib/python3.9/dist-packages (1.21.0)\n",
            "Requirement already satisfied: altair<5,>=3.2.0 in /usr/local/lib/python3.9/dist-packages (from streamlit) (4.2.2)\n",
            "Requirement already satisfied: numpy in /usr/local/lib/python3.9/dist-packages (from streamlit) (1.22.4)\n",
            "Requirement already satisfied: gitpython!=3.1.19 in /usr/local/lib/python3.9/dist-packages (from streamlit) (3.1.31)\n",
            "Requirement already satisfied: packaging>=14.1 in /usr/local/lib/python3.9/dist-packages (from streamlit) (23.1)\n",
            "Requirement already satisfied: rich>=10.11.0 in /usr/local/lib/python3.9/dist-packages (from streamlit) (13.3.4)\n",
            "Requirement already satisfied: pympler>=0.9 in /usr/local/lib/python3.9/dist-packages (from streamlit) (1.0.1)\n",
            "Requirement already satisfied: protobuf<4,>=3.12 in /usr/local/lib/python3.9/dist-packages (from streamlit) (3.20.3)\n",
            "Requirement already satisfied: toml in /usr/local/lib/python3.9/dist-packages (from streamlit) (0.10.2)\n",
            "Requirement already satisfied: click>=7.0 in /usr/local/lib/python3.9/dist-packages (from streamlit) (8.1.3)\n",
            "Requirement already satisfied: cachetools>=4.0 in /usr/local/lib/python3.9/dist-packages (from streamlit) (5.3.0)\n",
            "Requirement already satisfied: tzlocal>=1.1 in /usr/local/lib/python3.9/dist-packages (from streamlit) (4.3)\n",
            "Requirement already satisfied: watchdog in /usr/local/lib/python3.9/dist-packages (from streamlit) (3.0.0)\n",
            "Requirement already satisfied: python-dateutil in /usr/local/lib/python3.9/dist-packages (from streamlit) (2.8.2)\n",
            "Requirement already satisfied: pandas<2,>=0.25 in /usr/local/lib/python3.9/dist-packages (from streamlit) (1.5.3)\n",
            "Requirement already satisfied: requests>=2.4 in /usr/local/lib/python3.9/dist-packages (from streamlit) (2.27.1)\n",
            "Requirement already satisfied: importlib-metadata>=1.4 in /usr/local/lib/python3.9/dist-packages (from streamlit) (6.4.1)\n",
            "Requirement already satisfied: tornado>=6.0.3 in /usr/local/lib/python3.9/dist-packages (from streamlit) (6.2)\n",
            "Requirement already satisfied: pyarrow>=4.0 in /usr/local/lib/python3.9/dist-packages (from streamlit) (9.0.0)\n",
            "Requirement already satisfied: pillow>=6.2.0 in /usr/local/lib/python3.9/dist-packages (from streamlit) (8.4.0)\n",
            "Requirement already satisfied: blinker>=1.0.0 in /usr/local/lib/python3.9/dist-packages (from streamlit) (1.6.2)\n",
            "Requirement already satisfied: validators>=0.2 in /usr/local/lib/python3.9/dist-packages (from streamlit) (0.20.0)\n",
            "Requirement already satisfied: pydeck>=0.1.dev5 in /usr/local/lib/python3.9/dist-packages (from streamlit) (0.8.1b0)\n",
            "Requirement already satisfied: typing-extensions>=3.10.0.0 in /usr/local/lib/python3.9/dist-packages (from streamlit) (4.5.0)\n",
            "Requirement already satisfied: jsonschema>=3.0 in /usr/local/lib/python3.9/dist-packages (from altair<5,>=3.2.0->streamlit) (4.3.3)\n",
            "Requirement already satisfied: jinja2 in /usr/local/lib/python3.9/dist-packages (from altair<5,>=3.2.0->streamlit) (3.1.2)\n",
            "Requirement already satisfied: toolz in /usr/local/lib/python3.9/dist-packages (from altair<5,>=3.2.0->streamlit) (0.12.0)\n",
            "Requirement already satisfied: entrypoints in /usr/local/lib/python3.9/dist-packages (from altair<5,>=3.2.0->streamlit) (0.4)\n",
            "Requirement already satisfied: gitdb<5,>=4.0.1 in /usr/local/lib/python3.9/dist-packages (from gitpython!=3.1.19->streamlit) (4.0.10)\n",
            "Requirement already satisfied: zipp>=0.5 in /usr/local/lib/python3.9/dist-packages (from importlib-metadata>=1.4->streamlit) (3.15.0)\n",
            "Requirement already satisfied: pytz>=2020.1 in /usr/local/lib/python3.9/dist-packages (from pandas<2,>=0.25->streamlit) (2022.7.1)\n",
            "Requirement already satisfied: six>=1.5 in /usr/local/lib/python3.9/dist-packages (from python-dateutil->streamlit) (1.16.0)\n",
            "Requirement already satisfied: certifi>=2017.4.17 in /usr/local/lib/python3.9/dist-packages (from requests>=2.4->streamlit) (2022.12.7)\n",
            "Requirement already satisfied: urllib3<1.27,>=1.21.1 in /usr/local/lib/python3.9/dist-packages (from requests>=2.4->streamlit) (1.26.15)\n",
            "Requirement already satisfied: charset-normalizer~=2.0.0 in /usr/local/lib/python3.9/dist-packages (from requests>=2.4->streamlit) (2.0.12)\n",
            "Requirement already satisfied: idna<4,>=2.5 in /usr/local/lib/python3.9/dist-packages (from requests>=2.4->streamlit) (3.4)\n",
            "Requirement already satisfied: markdown-it-py<3.0.0,>=2.2.0 in /usr/local/lib/python3.9/dist-packages (from rich>=10.11.0->streamlit) (2.2.0)\n",
            "Requirement already satisfied: pygments<3.0.0,>=2.13.0 in /usr/local/lib/python3.9/dist-packages (from rich>=10.11.0->streamlit) (2.14.0)\n",
            "Requirement already satisfied: pytz-deprecation-shim in /usr/local/lib/python3.9/dist-packages (from tzlocal>=1.1->streamlit) (0.1.0.post0)\n",
            "Requirement already satisfied: decorator>=3.4.0 in /usr/local/lib/python3.9/dist-packages (from validators>=0.2->streamlit) (4.4.2)\n",
            "Requirement already satisfied: smmap<6,>=3.0.1 in /usr/local/lib/python3.9/dist-packages (from gitdb<5,>=4.0.1->gitpython!=3.1.19->streamlit) (5.0.0)\n",
            "Requirement already satisfied: MarkupSafe>=2.0 in /usr/local/lib/python3.9/dist-packages (from jinja2->altair<5,>=3.2.0->streamlit) (2.1.2)\n",
            "Requirement already satisfied: attrs>=17.4.0 in /usr/local/lib/python3.9/dist-packages (from jsonschema>=3.0->altair<5,>=3.2.0->streamlit) (23.1.0)\n",
            "Requirement already satisfied: pyrsistent!=0.17.0,!=0.17.1,!=0.17.2,>=0.14.0 in /usr/local/lib/python3.9/dist-packages (from jsonschema>=3.0->altair<5,>=3.2.0->streamlit) (0.19.3)\n",
            "Requirement already satisfied: mdurl~=0.1 in /usr/local/lib/python3.9/dist-packages (from markdown-it-py<3.0.0,>=2.2.0->rich>=10.11.0->streamlit) (0.1.2)\n",
            "Requirement already satisfied: tzdata in /usr/local/lib/python3.9/dist-packages (from pytz-deprecation-shim->tzlocal>=1.1->streamlit) (2023.3)\n"
          ]
        }
      ]
    },
    {
      "cell_type": "code",
      "source": [
        "!pip install pyngrok==4.1.1"
      ],
      "metadata": {
        "colab": {
          "base_uri": "https://localhost:8080/"
        },
        "id": "c2WxwiTQQp9U",
        "outputId": "af875a34-993a-4a1c-cbe8-341d7b750ea7"
      },
      "execution_count": null,
      "outputs": [
        {
          "output_type": "stream",
          "name": "stdout",
          "text": [
            "Looking in indexes: https://pypi.org/simple, https://us-python.pkg.dev/colab-wheels/public/simple/\n",
            "Requirement already satisfied: pyngrok==4.1.1 in /usr/local/lib/python3.9/dist-packages (4.1.1)\n",
            "Requirement already satisfied: future in /usr/local/lib/python3.9/dist-packages (from pyngrok==4.1.1) (0.18.3)\n",
            "Requirement already satisfied: PyYAML in /usr/local/lib/python3.9/dist-packages (from pyngrok==4.1.1) (6.0)\n"
          ]
        }
      ]
    },
    {
      "cell_type": "code",
      "source": [
        "%%writefile app.py\n",
        "import streamlit as st\n",
        "\n",
        "st.write(\"Hello, World!\")\n"
      ],
      "metadata": {
        "colab": {
          "base_uri": "https://localhost:8080/"
        },
        "id": "3VyePBQGQwhn",
        "outputId": "c139fb8c-872c-4c39-97c2-6934b41cf8c1"
      },
      "execution_count": null,
      "outputs": [
        {
          "output_type": "stream",
          "name": "stdout",
          "text": [
            "Overwriting app.py\n"
          ]
        }
      ]
    },
    {
      "cell_type": "code",
      "source": [
        "!ngrok authtoken 2LQgLh7lodeoIYd3YbBA1TKICLR_UzSY2aEtgZgrVPJx8mTB"
      ],
      "metadata": {
        "colab": {
          "base_uri": "https://localhost:8080/"
        },
        "id": "SaSjrPqmRIPf",
        "outputId": "696d13be-7666-40ab-816e-d0afe301c6de"
      },
      "execution_count": null,
      "outputs": [
        {
          "output_type": "stream",
          "name": "stdout",
          "text": [
            "Authtoken saved to configuration file: /root/.ngrok2/ngrok.yml\n"
          ]
        }
      ]
    },
    {
      "cell_type": "code",
      "source": [
        "!ngrok"
      ],
      "metadata": {
        "colab": {
          "base_uri": "https://localhost:8080/"
        },
        "id": "JYjOYJxwRimq",
        "outputId": "f9ed1c3f-de51-4093-acba-4ab3e5112317"
      },
      "execution_count": null,
      "outputs": [
        {
          "output_type": "stream",
          "name": "stdout",
          "text": [
            "NAME:\n",
            "  ngrok - tunnel local ports to public URLs and inspect traffic\n",
            "\n",
            "USAGE:\n",
            "  ngrok [command] [flags]\n",
            "\n",
            "DESCRIPTION: \n",
            "  ngrok exposes local networked services behinds NATs and firewalls to the\n",
            "  public internet over a secure tunnel. Share local websites, build/test\n",
            "  webhook consumers and self-host personal services.\n",
            "  Detailed help for each command is available with 'ngrok help <command>'.\n",
            "  Open http://localhost:4040 for ngrok's web interface to inspect traffic.\n",
            "\n",
            "Author:\n",
            "  ngrok - <support@ngrok.com>\n",
            "\n",
            "TERMS OF SERVICE: https://ngrok.com/tos\n",
            "\n",
            "EXAMPLES: \n",
            "  ngrok http 80                           # secure public URL for port 80 web server\n",
            "  ngrok http --domain baz.ngrok.dev 8080  # port 8080 available at baz.ngrok.dev\n",
            "  ngrok http foo.dev:80                   # tunnel to host:port instead of localhost\n",
            "  ngrok http https://localhost            # expose a local https server\n",
            "  ngrok tcp 22                            # tunnel arbitrary TCP traffic to port 22\n",
            "  ngrok tls --domain=foo.com 443          # TLS traffic for foo.com to port 443\n",
            "  ngrok start foo bar baz                 # start tunnels from the configuration file\n",
            "\n",
            "COMMANDS:\n",
            "  api                            use ngrok agent as an api client\n",
            "  completion                     generates shell completion code for bash or zsh\n",
            "  config                         update or migrate ngrok's configuration file\n",
            "  credits                        prints author and licensing information\n",
            "  diagnose                       diagnose connection issues\n",
            "  help                           Help about any command\n",
            "  http                           start an HTTP tunnel\n",
            "  service                        run and control an ngrok service on a target operating system\n",
            "  start                          start tunnels by name from the configuration file\n",
            "  tcp                            start a TCP tunnel\n",
            "  tls                            start a TLS tunnel\n",
            "  tunnel                         start a tunnel for use with a tunnel-group backend\n",
            "  update                         update ngrok to the latest version\n",
            "  version                        print the version string\n",
            "\n",
            "OPTIONS:\n",
            "      --config strings   path to config files; they are merged if multiple\n",
            "  -h, --help             help for ngrok\n",
            "  -v, --version          version for ngrok\n",
            "\n",
            "PYNGROK VERSION:\n",
            "   4.1.1\n"
          ]
        }
      ]
    },
    {
      "cell_type": "code",
      "source": [
        "from pyngrok import ngrok"
      ],
      "metadata": {
        "id": "CI9kP-iMRmFS"
      },
      "execution_count": null,
      "outputs": []
    },
    {
      "cell_type": "code",
      "source": [
        "!streamlit run app.py&>/dev/null&"
      ],
      "metadata": {
        "id": "zdToTRXkR7bq"
      },
      "execution_count": null,
      "outputs": []
    },
    {
      "cell_type": "code",
      "source": [
        "!pgrep streamlit "
      ],
      "metadata": {
        "colab": {
          "base_uri": "https://localhost:8080/"
        },
        "id": "I-U9EziPSOjc",
        "outputId": "8e230b5f-204c-42a6-d6f4-0cff42ead320"
      },
      "execution_count": null,
      "outputs": [
        {
          "output_type": "stream",
          "name": "stdout",
          "text": [
            "10567\n"
          ]
        }
      ]
    },
    {
      "cell_type": "code",
      "source": [
        "pub_url = ngrok.connect(port='8501')"
      ],
      "metadata": {
        "id": "ZyQasHMeRvlw"
      },
      "execution_count": null,
      "outputs": []
    },
    {
      "cell_type": "code",
      "source": [
        "pub_url"
      ],
      "metadata": {
        "colab": {
          "base_uri": "https://localhost:8080/",
          "height": 35
        },
        "id": "bAtlrrOuR1On",
        "outputId": "60fc85d6-3bcb-4e8e-8317-cf4517c8e4e3"
      },
      "execution_count": null,
      "outputs": [
        {
          "output_type": "execute_result",
          "data": {
            "text/plain": [
              "'http://f5fb-34-138-159-95.ngrok-free.app'"
            ],
            "application/vnd.google.colaboratory.intrinsic+json": {
              "type": "string"
            }
          },
          "metadata": {},
          "execution_count": 19
        }
      ]
    },
    {
      "cell_type": "code",
      "source": [
        "%%writefile app.py \n",
        "import pandas as pd\n",
        "import numpy as np\n",
        "import streamlit as st\n",
        "from sklearn.feature_extraction.text import TfidfVectorizer\n",
        "from sklearn.metrics.pairwise import cosine_similarity\n",
        "\n",
        "# Loading the data\n",
        "df = pd.read_csv(\"kdrama.csv\")\n",
        "\n",
        "# Selecting features for content-based filtering\n",
        "features = [\"Name\", \"Synopsis\", \"Genre\", \"Tags\", \"Director\", \"Cast\", \"Production companies\"]\n",
        "\n",
        "# Removal of missing values\n",
        "df = df.dropna(subset=features)\n",
        "\n",
        "# Combining the features into a single string\n",
        "df[\"content\"] = df[features].apply(lambda x: \" \".join(x.astype(str)), axis=1)\n",
        "\n",
        "# Vectorization of the content using TF-IDF\n",
        "tfidf = TfidfVectorizer(stop_words=\"english\")\n",
        "tfidf_matrix = tfidf.fit_transform(df[\"content\"])\n",
        "\n",
        "# Calculating the cosine similarity matrix\n",
        "cosine_sim = cosine_similarity(tfidf_matrix, tfidf_matrix)\n",
        "\n",
        "# Streamlit app title \n",
        "st.title(\"KDrama Recommendation System\")\n",
        "\n",
        "# Display a dropdown menu with all drama names\n",
        "options = list(df[\"Name\"])\n",
        "selected_drama = st.selectbox(\"Select a drama you liked:\", options)\n",
        "\n",
        "# Get the index of the selected drama\n",
        "index = df.loc[df[\"Name\"] == selected_drama].index[0]\n",
        "\n",
        "# Calculate the pairwise similarity between the selected drama and all others\n",
        "similarity_scores = list(enumerate(cosine_sim[index]))\n",
        "\n",
        "# Sort the similarity scores in descending order\n",
        "similarity_scores = sorted(similarity_scores, key=lambda x: x[1], reverse=True)\n",
        "\n",
        "# Display the top 5 most similar dramas\n",
        "st.write(\"Top 5 similar dramas:\")\n",
        "for i in range(1, 6):\n",
        "    drama = df.iloc[similarity_scores[i][0]][\"Name\"]\n",
        "    st.write(f\"{i}. {drama}\")"
      ],
      "metadata": {
        "colab": {
          "base_uri": "https://localhost:8080/"
        },
        "id": "bvVrXP2wTuFc",
        "outputId": "37e4a645-17ba-4bd6-beaf-b35d134f12be"
      },
      "execution_count": null,
      "outputs": [
        {
          "output_type": "stream",
          "name": "stdout",
          "text": [
            "Overwriting app.py\n"
          ]
        }
      ]
    },
    {
      "cell_type": "code",
      "source": [],
      "metadata": {
        "id": "DOb3B-VvVLfY"
      },
      "execution_count": null,
      "outputs": []
    }
  ]
}